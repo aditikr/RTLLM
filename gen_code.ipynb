{
 "cells": [
  {
   "cell_type": "code",
   "execution_count": 186,
   "metadata": {},
   "outputs": [],
   "source": [
    "import os\n",
    "import time\n",
    "import openai\n",
    "import tqdm\n",
    "path = \"/Users/aditiraghavan/Downloads/RTLLM/_chatgpt4\""
   ]
  },
  {
   "cell_type": "markdown",
   "metadata": {},
   "source": [
    "Designs that I want to synthesize"
   ]
  },
  {
   "cell_type": "code",
   "execution_count": 338,
   "metadata": {},
   "outputs": [],
   "source": [
    "design_name = ['accu', 'adder_8bit', 'adder_16bit', 'adder_32bit', 'adder_pipe_64bit', 'asyn_fifo', 'calendar', 'counter_12', 'edge_detect',\n",
    "                'freq_div', 'fsm', 'JC_counter', 'multi_16bit', 'multi_booth_8bit', 'multi_pipe_4bit', 'multi_pipe_8bit', 'parallel2serial' , 'pe' , 'pulse_detect', \n",
    "                'radix2_div', 'RAM', 'right_shifter',  'serial2parallel', 'signal_generator','synchronizer', 'alu', 'div_16bit', 'traffic_light', 'width_8to16']"
   ]
  },
  {
   "cell_type": "markdown",
   "metadata": {},
   "source": [
    "Find all design descriptions, add it to a dictionary."
   ]
  },
  {
   "cell_type": "code",
   "execution_count": 360,
   "metadata": {},
   "outputs": [
    {
     "name": "stdout",
     "output_type": "stream",
     "text": [
      "Please act as a professional verilog designer.\n",
      "\n",
      "Implement a module of an 8-bit adder with multiple bit-level adders in combinational logic. \n",
      "\n",
      "Module name:  \n",
      "    adder_8bit               \n",
      "Input ports:\n",
      "    a[7:0]: 8-bit input operand A.\n",
      "    b[7:0]: 8-bit input operand B.\n",
      "    cin: Carry-in input.\n",
      "Output ports:\n",
      "    sum[7:0]: 8-bit output representing the sum of A and B.\n",
      "    cout: Carry-out output.\n",
      "\n",
      "Implementation:\n",
      "The module utilizes a series of bit-level adders (full adders) to perform the addition operation.\n",
      "\n",
      "Give me the complete code.\n",
      " \n"
     ]
    }
   ],
   "source": [
    "design_descriptions = dict()\n",
    "for design in design_name:\n",
    "    if not (os.path.exists(f\"{design}/design_description.txt\")):\n",
    "        print(f\"Description for {design} not found\")\n",
    "        continue\n",
    "    with open(f\"{design}/design_description.txt\", \"r\") as f:\n",
    "        design_descriptions[design] = f.read()\n",
    "\n",
    "print(design_descriptions['adder_8bit'])"
   ]
  },
  {
   "cell_type": "markdown",
   "metadata": {},
   "source": [
    "Add path for where results should be stored"
   ]
  },
  {
   "cell_type": "code",
   "execution_count": 350,
   "metadata": {},
   "outputs": [
    {
     "name": "stdout",
     "output_type": "stream",
     "text": [
      "True\n",
      "/Users/aditiraghavan/Downloads/RTLLM/_chatgpt4/t21\n"
     ]
    }
   ],
   "source": [
    "path_for_verilog = os.path.join(path, f\"t21\")\n",
    "print(os.path.exists(path_for_verilog))\n",
    "print(path_for_verilog)\n"
   ]
  },
  {
   "cell_type": "code",
   "execution_count": 359,
   "metadata": {},
   "outputs": [],
   "source": [
    "openai.api_key = None"
   ]
  },
  {
   "cell_type": "markdown",
   "metadata": {},
   "source": [
    "Initalize dicts for the output from chatGPT"
   ]
  },
  {
   "cell_type": "code",
   "execution_count": 351,
   "metadata": {},
   "outputs": [],
   "source": [
    "code_gen = dict()\n",
    "prompt_gen = dict()"
   ]
  },
  {
   "cell_type": "markdown",
   "metadata": {},
   "source": [
    "Below is the verilog example and design description I used when doing one-shot. The design was verified using the benchmark's testbench"
   ]
  },
  {
   "cell_type": "code",
   "execution_count": 260,
   "metadata": {},
   "outputs": [],
   "source": [
    "verilog_code = \"\"\"module pulse_detect(\n",
    "    input  logic clk,\n",
    "    input  logic rst_n,\n",
    "    input  logic data_in,\n",
    "    output logic data_out\n",
    ");\n",
    "\n",
    "    // State encoding\n",
    "    enum logic [1:0] {IDLE, S0, S01} state, next_state;\n",
    "\n",
    "    // State register\n",
    "    always @(posedge clk or negedge rst_n) begin\n",
    "        if (!rst_n) begin\n",
    "            state <= IDLE;\n",
    "        end else begin\n",
    "            state <= next_state;\n",
    "        end\n",
    "    end\n",
    "\n",
    "    //State transition logic\n",
    "    always_comb begin\n",
    "        case (state)\n",
    "            IDLE: begin\n",
    "                if (data_in == 1'b0)\n",
    "                    next_state = S0;\n",
    "                else\n",
    "                    next_state = IDLE;\n",
    "            end\n",
    "            S0: begin\n",
    "                if (data_in == 1'b1)\n",
    "                    next_state = S01;\n",
    "                else\n",
    "                    next_state = S0; \n",
    "            end\n",
    "            S01: begin\n",
    "                if (data_in == 1'b0)\n",
    "                    next_state = S0;  // Move to S0 to handle overlapping patterns\n",
    "                else\n",
    "                    next_state = IDLE;\n",
    "            end\n",
    "            default: next_state = IDLE;\n",
    "        endcase\n",
    "    end\n",
    "\n",
    "    //Output logic\n",
    "    assign data_out = (state == S01 && data_in == 1'b0);\n",
    "endmodule\n",
    "\"\"\"\n",
    "verilog_design_description = \"\"\"Please act as a professional verilog designer.\n",
    "\n",
    "Implement a module for pulse detection. The 1-bit input signal data_in is a continuous input, which is triggered by clk. data_out is 1 when 0->1->0 is seen on data_in. Data_out is 1 on the same cycle 010 is seen. This requires 3 cycles. The pattern can overlap, for example, if data_in is 010101, the data_out is 00101. If data_in is 0110, data_out is 0000.\n",
    "\n",
    "\n",
    "Module name:  \n",
    "    pulse_detect\n",
    "\n",
    "Input ports：\n",
    "    clk: Clock signal.\n",
    "    rst_n: Reset signal (active low).\n",
    "    data_in: One-bit input signal.\n",
    "\n",
    "Output ports：\n",
    "    data_out: Output signal indicating the presence of pulses.\n",
    "\n",
    "Implementation:\n",
    "Declare the module pulse_detect with input and output ports as specified in the ports statement.\n",
    "Declare a register state to keep track of the current state of the pulse detection process.\n",
    "Inside an always block, sensitive to the positive edge of the clk signal and the negative edge of the rst_n signal, implement the logic for pulse detection and output generation.\n",
    "In the reset condition (~rst_n), set the state register to the initial state and set the data_out output to 0, indicating no pulse. Continue the detection process for the remaining states. For each state, check the value of data_in and transition to the next state accordingly. If the current state satisfies the last state of a \"pulse\", set data_out to 1, indicating the end of a pulse. Otherwise, set data_out to 0.\n",
    "\n",
    "Give me the complete code.\"\"\""
   ]
  },
  {
   "cell_type": "markdown",
   "metadata": {},
   "source": [
    "augment_text_generate adds my one shot example and additional instruction prompting to the original design description. Commented out lines show other techniques which were less successful. This includes chain of thought, and other instruction prompts"
   ]
  },
  {
   "cell_type": "code",
   "execution_count": 332,
   "metadata": {},
   "outputs": [],
   "source": [
    "def augment_text_generate(prompt):\n",
    "    out_prompt = verilog_design_description \n",
    "    out_prompt += \"\\n\"\n",
    "    out_prompt += verilog_code\n",
    "    out_prompt += \"\\n\"\n",
    "\n",
    "    out_prompt += prompt\n",
    "    out_prompt += \"Ensure that you do not have syntax errors in the code.\"\n",
    "    out_prompt += \"All output logic should be blocking.\"\n",
    "\n",
    "    #Commented out code as not used in final prompting strategy, but were tried out\n",
    "\n",
    "    # out_prompt = \"Use the exact module names and signal names as given in the description.\\n\"\n",
    "    # out_prompt += \"Let's think step by step before writing the code. \\n\"\n",
    "    # out_prompt += \"Identify edge cases and complex scenarios that you need to consider.\\n\"\n",
    "    # out_prompt += \"Give me the complete code.\"\n",
    "    \n",
    "    return out_prompt \n"
   ]
  },
  {
   "cell_type": "code",
   "execution_count": 352,
   "metadata": {},
   "outputs": [
    {
     "name": "stderr",
     "output_type": "stream",
     "text": [
      "  0%|          | 0/29 [00:00<?, ?it/s]"
     ]
    },
    {
     "name": "stderr",
     "output_type": "stream",
     "text": [
      "100%|██████████| 29/29 [14:05<00:00, 29.15s/it]\n"
     ]
    }
   ],
   "source": [
    "\n",
    "for i in tqdm.tqdm(range(0, len(design_name))):\n",
    "    design = design_name[i]\n",
    "    send_gpt = design_descriptions[design]\n",
    "    send_gpt = augment_text_generate(send_gpt)\n",
    "    completion = openai.chat.completions.create(\n",
    "            model=\"gpt-4-turbo\",\n",
    "            messages=[\n",
    "                {\"role\": \"system\", \"content\": \"You are a helpful chatbot\"},\n",
    "                {\"role\": \"user\", \"content\": send_gpt},\n",
    "            ],\n",
    "        )\n",
    "    code_gen[design] = completion.choices[0].message.content\n",
    "    "
   ]
  },
  {
   "cell_type": "markdown",
   "metadata": {},
   "source": [
    "Below is an example of the output given by GPT-4"
   ]
  },
  {
   "cell_type": "code",
   "execution_count": 353,
   "metadata": {},
   "outputs": [
    {
     "name": "stdout",
     "output_type": "stream",
     "text": [
      "Certainly! Let's start with implementing the `adder_8bit` as requested using full adders for bit-by-bit computation of the sum between two 8-bit input numbers. This implementation will be in Verilog and showcase handling of carry propagation through the 8 bits.\n",
      "\n",
      "```verilog\n",
      "module adder_8bit(\n",
      "    input  wire [7:0] a,    // 8-bit input operand A\n",
      "    input  wire [7:0] b,    // 8-bit input operand B\n",
      "    input  wire       cin,  // Carry-in input\n",
      "    output wire [7:0] sum,  // 8-bit sum of A and B\n",
      "    output wire       cout  // Carry-out\n",
      ");\n",
      "\n",
      "    // Internal variables for carry\n",
      "    wire [8:0] carry;   // wire array to store carry out from each bit addition, carry[8] is cout\n",
      "\n",
      "    // Assign the first carry input\n",
      "    assign carry[0] = cin;\n",
      "\n",
      "    // Generate the full adders\n",
      "    genvar i;\n",
      "    generate\n",
      "        for (i = 0; i < 8; i = i + 1) begin: full_adder_gen\n",
      "            full_adder fa(\n",
      "                .a(a[i]),\n",
      "                .b(b[i]),\n",
      "                .cin(carry[i]),\n",
      "                .sum(sum[i]),\n",
      "                .cout(carry[i+1])\n",
      "            );\n",
      "        end\n",
      "    endgenerate\n",
      "\n",
      "    // Assign carry out\n",
      "    assign cout = carry[8];\n",
      "\n",
      "endmodule\n",
      "\n",
      "module full_adder(\n",
      "    input  wire a,    // Input bit A\n",
      "    input  wire b,    // Input bit B\n",
      "    input  wire cin,  // Input carry\n",
      "    output wire sum,  // Output sum bit\n",
      "    output wire cout  // Output carry\n",
      ");\n",
      "    // Logic for a single bit full adder\n",
      "    assign sum = a ^ b ^ cin;      // Sum is the XOR of the two bits and the carry-in\n",
      "    assign cout = (a & b) | (b & cin) | (a & cin); // Carry-out is generated if any two of the three inputs are high\n",
      "endmodule\n",
      "```\n",
      "\n",
      "This Verilog code defines an 8-bit adder `adder_8bit` built using smaller full adder modules instantiated in a generate loop. Each `full_adder` handles one bit of the operands. The carry generated from each bit-level addition is properly propagated to the next higher bit. `carry[0]` is initialized to the carry-in `cin`. The final carry is assigned to `cout`. This modular design promotes reusability and clarity in circuit design.\n"
     ]
    }
   ],
   "source": [
    "print(code_gen['adder_8bit'])\n"
   ]
  },
  {
   "cell_type": "markdown",
   "metadata": {},
   "source": [
    "Write the raw file somewhere just for reference if needed"
   ]
  },
  {
   "cell_type": "code",
   "execution_count": 354,
   "metadata": {},
   "outputs": [],
   "source": [
    "# Write code gen to a file, with file id in file name\n",
    "with open(f\"code_gen_{time.time()}.txt\", \"w\") as f:\n",
    "    #Put send gpt\n",
    "    f.write(send_gpt)\n",
    "    f.write(\"\\n\\n\")\n",
    "    for design in code_gen:\n",
    "        f.write(f\"{design}\\n\")\n",
    "        f.write(f\"{code_gen[design]}\\n\")\n",
    "        f.write(\"\\n\\n\")\n",
    "    \n",
    "code_gen_parse = dict()"
   ]
  },
  {
   "cell_type": "markdown",
   "metadata": {},
   "source": [
    "Parse, output to remove all additional comments and just capture the verilog code. There may be multiple modules in one reponse so post-processing needs to support that"
   ]
  },
  {
   "cell_type": "code",
   "execution_count": 357,
   "metadata": {},
   "outputs": [],
   "source": [
    "import re\n",
    "def extract_verilog_code(text):\n",
    "    # Define the regular expression pattern to match code blocks\n",
    "    pattern = r\"```verilog\\n(.*?)\\n```\"\n",
    "    \n",
    "    # Use re.findall to extract all occurrences of the pattern\n",
    "    verilog_codes = re.findall(pattern, text, re.DOTALL)\n",
    "    \n",
    "    # Return the list of extracted Verilog code blocks\n",
    "    return verilog_codes\n",
    "\n",
    "for design in design_name:\n",
    "    code_gen_parse[design] = extract_verilog_code(code_gen[design])\n"
   ]
  },
  {
   "cell_type": "markdown",
   "metadata": {},
   "source": [
    "Write every design into the corresponding file name"
   ]
  },
  {
   "cell_type": "code",
   "execution_count": 358,
   "metadata": {},
   "outputs": [],
   "source": [
    "#Write the verilog code to the file\n",
    "for design in design_name:\n",
    "    with open(f\"{path_for_verilog}/{design}.v\", \"w\") as f:\n",
    "        for code in code_gen_parse[design]:\n",
    "            f.write(code)\n",
    "            f.write(\"\\n\")"
   ]
  },
  {
   "cell_type": "markdown",
   "metadata": {},
   "source": [
    "The code below was used for trying self planning as mentioned by the authors. The first step requires us to pass the design description and ask the LLM to create a plan. The the generated plan is passed in with the design description again to get the final code. Commented out code was instruction prompting that I tested but did not use when reporting my self planning results. As mentioned in the presentation, self planning did not perform well at all, and I believe that it is because the LLM is overloaded with information and forget the most important part of the entire prompt - the design description."
   ]
  },
  {
   "cell_type": "code",
   "execution_count": 330,
   "metadata": {},
   "outputs": [
    {
     "data": {
      "text/plain": [
       "\"Let's think step by step on how to write the code. Focus on data processing and reason through your answer.\\nIdentify edge cases and complex scenarios that you need to consider.\\nPlease act as a professional verilog designer.\\n\\nImplement a module to achieve serial input data accumulation output, input is 8bit data. The valid_in will be set to 1 before the first data comes in. Whenever the module receives 4 input data, the data_out outputs 4 received data accumulation results and sets the valid_out to be 1 (will last only 1 cycle).\\n\\nModule name:  \\n    accu               \\nInput ports:\\n\\tclk: Clock input for synchronization.\\n\\trst_n: Active-low reset signal.\\n\\tdata_in[7:0]: 8-bit input data for addition.\\n\\tvalid_in: Input signal indicating readiness for new data.   \\nOutput ports:\\n    valid_out: Output signal indicating when 4 input data accumulation is reached.\\n\\tdata_out[9:0]: 10-bit output data representing the accumulated sum.\\n\\nImplementation:\\nWhen valid_in is 1, data_in is a valid input. Accumulate four valid input data_in values and calculate the output data_out by adding these four values together. \\nThere is no output when there are fewer than four data_in inputs in the interim. Along with the output data_out, a cycle of valid_out=1 will appear as a signal. \\nThe valid_out signal is set to 1 when the data_out outputs 4 received data accumulation results. Otherwise, it is set to 0.\\n\""
      ]
     },
     "execution_count": 330,
     "metadata": {},
     "output_type": "execute_result"
    }
   ],
   "source": [
    "def augment_text(prompt):\n",
    "    #Remove last line of prompt \n",
    "    prompt = prompt.split(\"\\n\")\n",
    "    prompt = prompt[:-2]\n",
    "\n",
    "    prompt = \"\\n\".join(prompt)\n",
    "    out_prompt = \"Let's think step by step on how to write the code. Focus on data processing and reason through your answer.\\n\"\n",
    "    out_prompt += \"Identify edge cases and complex scenarios that you need to consider.\\n\"\n",
    "    # out_prompt = \"Use the exact module names and signal names as given in the description.\\n\"\n",
    "    # out_prompt += \"Let's think step by step before writing the code. \\n\"\n",
    "    out_prompt += prompt\n",
    "    \n",
    "    return out_prompt\n",
    "\n",
    "augment_text(design_descriptions['accu'])"
   ]
  },
  {
   "cell_type": "markdown",
   "metadata": {},
   "source": [
    "Write the output of the first step of self planning for each design into a dictionary"
   ]
  },
  {
   "cell_type": "code",
   "execution_count": null,
   "metadata": {},
   "outputs": [],
   "source": [
    "#Create file based on design name and write the description\n",
    "for i in tqdm.tqdm(range(0, len(design_name))):\n",
    "    design = design_name[i]\n",
    "    send_gpt = design_descriptions[design]\n",
    "    send_gpt = augment_text(send_gpt)\n",
    "    completion = openai.chat.completions.create(\n",
    "            model=\"gpt-4-turbo\",\n",
    "            messages=[\n",
    "                {\"role\": \"system\", \"content\": \"You are a helpful chatbot\"},\n",
    "                {\"role\": \"user\", \"content\": send_gpt},\n",
    "            ],\n",
    "            temperature=0.2\n",
    "        )\n",
    "    prompt_gen[design] = completion.choices[0].message.content\n",
    "\n"
   ]
  }
 ],
 "metadata": {
  "kernelspec": {
   "display_name": "Python 3",
   "language": "python",
   "name": "python3"
  },
  "language_info": {
   "codemirror_mode": {
    "name": "ipython",
    "version": 3
   },
   "file_extension": ".py",
   "mimetype": "text/x-python",
   "name": "python",
   "nbconvert_exporter": "python",
   "pygments_lexer": "ipython3",
   "version": "3.11.5"
  }
 },
 "nbformat": 4,
 "nbformat_minor": 2
}
