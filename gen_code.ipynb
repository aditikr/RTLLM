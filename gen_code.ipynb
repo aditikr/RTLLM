{
 "cells": [
  {
   "cell_type": "code",
   "execution_count": 16,
   "metadata": {},
   "outputs": [],
   "source": [
    "import os\n",
    "import time\n",
    "import openai\n",
    "path = \"/afs/ece.cmu.edu/usr/akraghav/Private/prompt/RTLLM/_chatgpt4\"\n"
   ]
  },
  {
   "cell_type": "code",
   "execution_count": 7,
   "metadata": {},
   "outputs": [
    {
     "name": "stdout",
     "output_type": "stream",
     "text": [
      "True\n",
      "True\n",
      "{'adder_16bit': 'Please act as a professional verilog designer.\\n\\nImplement a module of a 16-bit full adder in combinational logic.\\n\\nModule name:  \\n    adder_16bit               \\nInput ports:\\n    a[15:0]: 16-bit input operand A.\\n    b[15:0]: 16-bit input operand B.\\n    Cin: Carry-in input.\\nOutput ports:\\n    y[15:0]: 16-bit output representing the sum of A and B.\\n    Co: Carry-out output.\\n\\nImplementation:\\nIn the adder_16bit module, you need to design a small bit-width adder(8-bit adder), which will be instantiated multiple times.\\n\\nGive me the complete code.\\n', 'multi_16bit': 'Please act as a professional verilog designer.\\n\\nImplement the design of an unsigned 16-bit multiplier. It utilizes shift and accumulate operations to generate the product output (yout). The module also includes control signals such as clock (clk), reset (rst_n), and start (start), along with a completion flag (done) indicating the completion of the multiplication operation.\\n\\nModule name:  \\n    multi_16bit  \\n\\nInput ports:\\n    clk: Chip clock signal.\\n    rst_n: Active-low reset signal. Defined as 0 for chip reset and 1 for reset signal inactive.\\n    start: Chip enable signal to initiate the multiplication operation.\\n    ain: Input signal representing the multiplicand (a) with a data width of 16 bits.\\n    bin: Input signal representing the multiplier (b) with a data width of 16 bits.\\n\\nOutput ports:\\n    yout: Product output signal with a data width of 32 bits.\\n    done: Chip output flag signal. Defined as 1 indicates the completion of the multiplication operation.\\n\\nImplementation:\\nData bit control:\\nOn every positive edge of the clock signal (clk) or the falling edge of the reset signal (rst_n), the shift count register (i) is updated.\\nIf the reset signal (rst_n) is low, indicating a reset condition, the shift count register (i) is set to 0.\\nIf the start signal is active (start) and the shift count register (i) is less than 17, the shift count register (i) increments by 1.\\nIf the start signal is inactive (!start), the shift count register (i) is reset to 0.\\nMultiplication completion flag generation:\\nOn every positive edge of the clock signal (clk) or the falling edge of the reset signal (rst_n), the multiplication completion flag (done_r) is updated.\\nIf the reset signal (rst_n) is low, the multiplication completion flag (done_r) is set to 0.\\nIf the shift count register (i) is equal to 16, indicating the completion of the multiplication operation, the multiplication completion flag (done_r) is set to 1.\\nIf the shift count register (i) is equal to 17, the multiplication completion flag (done_r) is reset to 0.\\nShift and accumulate operation:\\nOn every positive edge of the clock signal (clk) or the falling edge of the reset signal (rst_n), the module performs the shift and accumulate operation.\\nIf the reset signal (rst_n) is low, indicating a reset condition, the multiplicand register (areg), multiplier register (breg), and product register (yout_r) are reset to 0.\\nIf the start signal is active (start), the module starts the multiplication operation.\\nWhen the shift count register (i) is 0, the multiplicand (ain) and multiplier (bin) are stored in the respective registers (areg and breg).\\nFor shift counts greater than 0 and less than 17, if the bit at position i-1 in the multiplicand register (areg) is high, the product register (yout_r) accumulates the shifted value of the multiplier register (breg) by shifting it left by i-1 positions and appending zeros at the least significant bit positions.\\nOutput assignment:\\nThe product output (yout) is assigned the value of the product register (yout_r).\\n\\nGive me the complete code.\\n'}\n"
     ]
    }
   ],
   "source": [
    "design_name = ['adder_16bit', 'multi_16bit']\n",
    "design_descriptions = dict()\n",
    "for design in design_name:\n",
    "    print(os.path.exists(f\"{design}/design_description.txt\"))\n",
    "    with open(f\"{design}/design_description.txt\", \"r\") as f:\n",
    "        design_descriptions[design] = f.read()\n",
    "\n",
    "print(design_descriptions)"
   ]
  },
  {
   "cell_type": "code",
   "execution_count": 10,
   "metadata": {},
   "outputs": [
    {
     "name": "stdout",
     "output_type": "stream",
     "text": [
      "True\n",
      "/afs/ece.cmu.edu/usr/akraghav/Private/prompt/RTLLM/_chatgpt4/t6\n"
     ]
    }
   ],
   "source": [
    "print(os.path.exists(os.path.join(path, f\"t6\")))\n",
    "path_for_verilog = os.path.join(path, f\"t6\")\n",
    "print(path_for_verilog)\n"
   ]
  },
  {
   "cell_type": "code",
   "execution_count": 9,
   "metadata": {},
   "outputs": [],
   "source": []
  },
  {
   "cell_type": "code",
   "execution_count": 17,
   "metadata": {},
   "outputs": [
    {
     "ename": "AttributeError",
     "evalue": "module 'openai' has no attribute 'chat'",
     "output_type": "error",
     "traceback": [
      "\u001b[0;31m---------------------------------------------------------------------------\u001b[0m",
      "\u001b[0;31mAttributeError\u001b[0m                            Traceback (most recent call last)",
      "\u001b[0;32m<ipython-input-17-2456f7e29699>\u001b[0m in \u001b[0;36m<module>\u001b[0;34m\u001b[0m\n\u001b[1;32m      4\u001b[0m     \u001b[0mtemp_verilog_path\u001b[0m \u001b[0;34m=\u001b[0m \u001b[0mos\u001b[0m\u001b[0;34m.\u001b[0m\u001b[0mpath\u001b[0m\u001b[0;34m.\u001b[0m\u001b[0mjoin\u001b[0m\u001b[0;34m(\u001b[0m\u001b[0mpath_for_verilog\u001b[0m\u001b[0;34m,\u001b[0m \u001b[0;34mf\"{design}.v\"\u001b[0m\u001b[0;34m)\u001b[0m\u001b[0;34m\u001b[0m\u001b[0;34m\u001b[0m\u001b[0m\n\u001b[1;32m      5\u001b[0m     \u001b[0msend_gpt\u001b[0m \u001b[0;34m=\u001b[0m \u001b[0mdesign_descriptions\u001b[0m\u001b[0;34m[\u001b[0m\u001b[0mdesign\u001b[0m\u001b[0;34m]\u001b[0m\u001b[0;34m\u001b[0m\u001b[0;34m\u001b[0m\u001b[0m\n\u001b[0;32m----> 6\u001b[0;31m     completion = openai.chat.completions.create(\n\u001b[0m\u001b[1;32m      7\u001b[0m             \u001b[0mmodel\u001b[0m\u001b[0;34m=\u001b[0m\u001b[0;34m\"gpt-3.5-turbo\"\u001b[0m\u001b[0;34m,\u001b[0m\u001b[0;34m\u001b[0m\u001b[0;34m\u001b[0m\u001b[0m\n\u001b[1;32m      8\u001b[0m             messages=[\n",
      "\u001b[0;31mAttributeError\u001b[0m: module 'openai' has no attribute 'chat'"
     ]
    }
   ],
   "source": [
    "#Create file based on design name and write the description\n",
    "\n",
    "for design in design_name:\n",
    "    temp_verilog_path = os.path.join(path_for_verilog, f\"{design}.v\")\n",
    "    send_gpt = design_descriptions[design]\n",
    "    completion = openai.chat.completions.create(\n",
    "            model=\"gpt-3.5-turbo\",\n",
    "            messages=[\n",
    "                {\"role\": \"system\", \"content\": \"You are a helpful chatbot\"},\n",
    "                {\"role\": \"user\", \"content\": send_gpt},\n",
    "            ],\n",
    "            temperature=0.0\n",
    "        )\n",
    "    print(completion.choices[0].message.content)\n",
    "    with open(temp_verilog_path, \"w\") as f:\n",
    "        f.write(completion.choices[0].message.content)"
   ]
  },
  {
   "cell_type": "code",
   "execution_count": null,
   "metadata": {},
   "outputs": [],
   "source": []
  }
 ],
 "metadata": {
  "kernelspec": {
   "display_name": "Python 3",
   "language": "python",
   "name": "python3"
  },
  "language_info": {
   "codemirror_mode": {
    "name": "ipython",
    "version": 3
   },
   "file_extension": ".py",
   "mimetype": "text/x-python",
   "name": "python",
   "nbconvert_exporter": "python",
   "pygments_lexer": "ipython3",
   "version": "3.6.8"
  }
 },
 "nbformat": 4,
 "nbformat_minor": 2
}
